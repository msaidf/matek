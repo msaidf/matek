{
 "cells": [
  {
   "cell_type": "markdown",
   "metadata": {
    "slideshow": {
     "slide_type": "slide"
    }
   },
   "source": [
    "# Himpunan ( *Set* )"
   ]
  },
  {
   "cell_type": "markdown",
   "metadata": {
    "slideshow": {
     "slide_type": "subslide"
    }
   },
   "source": [
    "## Penulisan\n",
    "- Himpunan: kumpulan obyek\n",
    "    - $ S = \\{2,3,4\\} $\n",
    "    - $ T = \\{x | -5 < x < 10\\} $\n",
    "    - $ I = \\{x | \\text{x bilangan bulat positif}\\}$\n",
    "- Elemen: obyek dalam himpunan\n",
    "    - dilambangkan dengan $\\in$\n",
    "    - $2 \\in A$ **dibaca** $2$ adalah elemen dari $S$"
   ]
  },
  {
   "cell_type": "markdown",
   "metadata": {
    "slideshow": {
     "slide_type": "subslide"
    }
   },
   "source": [
    "## Hubungan antar Himpunan\n",
    "- sama dengan (*equal*), $=$ \n",
    "    - Urutan tidak berpengaruh\n",
    "- himpunan bagian (*subset*), $\\subset$\n",
    "    - $T$ adalah subset dari $S$, yakni $T \\subset S$ atau $S \\supset T$, jika dan hanya jika $x \\in T$ mengimplikasikan bahwa $x \\in S$\n",
    "    - Silogisme:\n",
    "        - Premis mayor: $T \\subset S$\n",
    "        - Premis minor: $x \\in T$\n",
    "        - Kesimpulan: $x \\in S$"
   ]
  },
  {
   "cell_type": "markdown",
   "metadata": {
    "slideshow": {
     "slide_type": "subslide"
    }
   },
   "source": [
    "## Operasi Himpunan\n",
    "- Irisan (*intersection*) <br>\n",
    "  $A \\cap B = \\{ x | x \\in A \\textbf{ dan } x \\in B \\}$\n",
    "- Gabungan (*union*) <br>\n",
    "  $A \\cup B = \\{ x | x \\in A \\textbf{ atau } x \\in B \\}$"
   ]
  },
  {
   "cell_type": "markdown",
   "metadata": {
    "slideshow": {
     "slide_type": "subslide"
    }
   },
   "source": [
    "## Hukum Operasi Himpunan\n",
    "- Komutatif <br>\n",
    "  $ A \\cup B = B \\cup A $  <br>\n",
    "  $ A \\cap B = B \\cap A $\n",
    "- Asosiatif <br>\n",
    "  $ A \\cup ( B \\cup C ) = ( A \\cup B ) \\cup C $ <br>\n",
    "  $ A \\cap ( B \\cap C ) = ( A \\cap B ) \\cap C $\n",
    "- Distributif <br>\n",
    "  $ A \\cup ( B \\cap C ) = ( A \\cup B ) \\cap ( A \\cup C ) $ <br>\n",
    "  $ A \\cap ( B \\cup C ) = ( A \\cap B ) \\cup ( A \\cap C ) $ "
   ]
  }
 ],
 "metadata": {
  "celltoolbar": "Slideshow",
  "hide_input": false,
  "kernelspec": {
   "display_name": "R",
   "language": "R",
   "name": "ir"
  },
  "language_info": {
   "codemirror_mode": "r",
   "file_extension": ".r",
   "mimetype": "text/x-r-source",
   "name": "R",
   "pygments_lexer": "r",
   "version": "3.5.3"
  },
  "toc": {
   "base_numbering": 1,
   "nav_menu": {},
   "number_sections": false,
   "sideBar": true,
   "skip_h1_title": true,
   "title_cell": "",
   "title_sidebar": "Contents",
   "toc_cell": false,
   "toc_position": {},
   "toc_section_display": true,
   "toc_window_display": false
  }
 },
 "nbformat": 4,
 "nbformat_minor": 2
}
