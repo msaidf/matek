{
 "cells": [
  {
   "cell_type": "markdown",
   "metadata": {
    "slideshow": {
     "slide_type": "slide"
    }
   },
   "source": [
    "# Pendahuluan"
   ]
  },
  {
   "cell_type": "markdown",
   "metadata": {
    "slideshow": {
     "slide_type": "slide"
    }
   },
   "source": [
    "## Model Ekonomi\n",
    "- Ekonom menggunakan **model** sebagai alat bantu analisis ekonomi\n",
    "- **Model**: cerita rekaan yang menggambarkan hubungan antar variabel yang menjadi perhatian. \n",
    "- Model merupakan penyederhanaan realitas yang kompleks. Variabel yang tidak menjadi perhatian dianggap/diasumsikan tidak berubah (*ceteris paribus*) "
   ]
  },
  {
   "cell_type": "markdown",
   "metadata": {
    "slideshow": {
     "slide_type": "subslide"
    }
   },
   "source": [
    "### Model Matematis\n",
    "- Cerita dalam model bisa dinyatakan dalam bahasa matematis\n",
    "- Keuntungan penggunaan bahasa matematika\n",
    "    - presisi, singkat\n",
    "    - meminjam teori matematika\n",
    "    - memaksa deklarasi asumsi\n",
    "    - bahasa logika\n",
    "- Kerugian\n",
    "    - terlalu rigor (tidak fleksibel)\n",
    "    - tidak realistis, kadang dikorbankan demi kemudahan"
   ]
  },
  {
   "cell_type": "markdown",
   "metadata": {
    "slideshow": {
     "slide_type": "slide"
    }
   },
   "source": [
    "## Pengertian"
   ]
  },
  {
   "cell_type": "markdown",
   "metadata": {
    "slideshow": {
     "slide_type": "subslide"
    }
   },
   "source": [
    "### Persamaan Perilaku (*Behavioral*)\n",
    "- menjabarkan respon satu variabel pada perubahan variabel lain\n",
    "- Contoh: fungsi produksi\n",
    "$$ Y = AK^\\alpha L^{\\beta}$$\n",
    "- Y, K, dan L adalah **variabel**, bagian model yang nilainya tidak tetap\n",
    "    - Y: output\n",
    "    - K: input modal\n",
    "    - L: input tenaga kerja\n",
    "- A, $\\alpha$, dan $\\beta$ adalah **parameter**, konstanta yang belum dinyatakan nilainya"
   ]
  },
  {
   "cell_type": "markdown",
   "metadata": {
    "slideshow": {
     "slide_type": "subslide"
    }
   },
   "source": [
    "### Persamaan definisi\n",
    "- Sebelah kiri dan kanan persamaan memiliki kesamaan arti. \n",
    "- Contoh: \n",
    "    - Persamaan Keuntungan <br>\n",
    "      $ \\pi = R - C $"
   ]
  },
  {
   "cell_type": "markdown",
   "metadata": {
    "slideshow": {
     "slide_type": "subslide"
    }
   },
   "source": [
    "### Persamaan Syarat\n",
    "- menyatakan syarat yang harus dipenuhi\n",
    "- Contoh: \n",
    "    - persamaan keseimbangan (*ekuilibrium*) permintaan dan penawaran <br>\n",
    "      $ Q_d = Q_s $"
   ]
  },
  {
   "cell_type": "markdown",
   "metadata": {
    "slideshow": {
     "slide_type": "slide"
    }
   },
   "source": [
    "## Sistem bilangan\n",
    "- Khayalan (*Imaginary*)\n",
    "- Nyata (*Real*)\n",
    "    - Irasional\n",
    "    - Rasional\n",
    "        - Bulat (*Integers*)\n",
    "        - Pecahan (*Fractions*)"
   ]
  }
 ],
 "metadata": {
  "celltoolbar": "Slideshow",
  "hide_input": false,
  "kernelspec": {
   "display_name": "R",
   "language": "R",
   "name": "ir"
  },
  "language_info": {
   "codemirror_mode": "r",
   "file_extension": ".r",
   "mimetype": "text/x-r-source",
   "name": "R",
   "pygments_lexer": "r",
   "version": "3.5.3"
  },
  "toc": {
   "base_numbering": 1,
   "nav_menu": {},
   "number_sections": false,
   "sideBar": true,
   "skip_h1_title": true,
   "title_cell": "",
   "title_sidebar": "Contents",
   "toc_cell": false,
   "toc_position": {},
   "toc_section_display": true,
   "toc_window_display": true
  }
 },
 "nbformat": 4,
 "nbformat_minor": 2
}
